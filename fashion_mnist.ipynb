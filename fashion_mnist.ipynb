{
 "cells": [
  {
   "cell_type": "code",
   "execution_count": 2,
   "metadata": {},
   "outputs": [],
   "source": [
    "import torch\n",
    "from torch import nn\n",
    "from torch.utils.data import DataLoader\n",
    "\n",
    "# domain specific libraries from which to import data\n",
    "from torchvision import datasets\n",
    "from torchvision.transforms import ToTensor"
   ]
  },
  {
   "cell_type": "code",
   "execution_count": 3,
   "metadata": {},
   "outputs": [],
   "source": [
    "# download the training data\n",
    "training_data = datasets.FashionMNIST(\n",
    "    root='data',\n",
    "    train=True,\n",
    "    download=True,\n",
    "    transform=ToTensor(),\n",
    ")\n",
    "\n",
    "# download the test data\n",
    "test_data = datasets.FashionMNIST(\n",
    "    root='data',\n",
    "    train=False,\n",
    "    download=True,\n",
    "    transform=ToTensor(),\n",
    ")"
   ]
  },
  {
   "cell_type": "code",
   "execution_count": null,
   "metadata": {},
   "outputs": [],
   "source": [
    "# iterating and visualizing the data\n",
    "labels_map = {\n",
    "    0:'T-Shirt',\n",
    "    1:'Trouser',\n",
    "    2:'Pullover',\n",
    "    3:'Dress',\n",
    "    4:'Coat',\n",
    "    5:'Sandal',\n",
    "    6:'Shirt',\n",
    "    7:'Sneaker',\n",
    "    8:'Bag',\n",
    "    9:'Ankle Boot'\n",
    "}\n",
    "\n",
    "figure = plt.figure(figsize=(8,8))\n",
    "cols, rows = 3,3\n",
    "for i in range(1,cols*rows+1):\n",
    "    sample_idx = torch.randint(len(training_data), size=(1,)).item()\n",
    "    img, label = training_data[sample_idx]\n",
    "    figure.add_subplot(rows,cols,i)\n",
    "    plt.title(labels_map[label])\n",
    "    plt.axis('off')\n",
    "    plt.imshow(img.squeeze(), cmap='gray')\n",
    "plt.show()"
   ]
  },
  {
   "cell_type": "code",
   "execution_count": 4,
   "metadata": {},
   "outputs": [
    {
     "name": "stdout",
     "output_type": "stream",
     "text": [
      "Shape of X [N, C, H, W]: torch.Size([64, 1, 28, 28])\n",
      "Shape of y: torch.Size([64]) torch.int64\n"
     ]
    }
   ],
   "source": [
    "# pass the dataset as an argument to 'Dataloader'. this wraps an iterable around our dataset, supporting automatic batching, sampling, shuffling\n",
    "# and multiprocess data loading\n",
    "\n",
    "# each element in the dataloader iterable will return a batch of 64 features and labels\n",
    "batch_size = 64\n",
    "\n",
    "# create data loaders \n",
    "train_dataloader = DataLoader(training_data, batch_size=batch_size)\n",
    "test_dataloader = DataLoader(test_data, batch_size=batch_size)\n",
    "\n",
    "for X, y in test_dataloader:\n",
    "    print(f'Shape of X [N, C, H, W]: {X.shape}')\n",
    "    print(f'Shape of y: {y.shape} {y.dtype}')\n",
    "    break"
   ]
  },
  {
   "cell_type": "code",
   "execution_count": 7,
   "metadata": {},
   "outputs": [
    {
     "name": "stdout",
     "output_type": "stream",
     "text": [
      "Using cpu device\n",
      "NeuralNetwork(\n",
      "  (flatten): Flatten(start_dim=1, end_dim=-1)\n",
      "  (linear_relu_stack): Sequential(\n",
      "    (0): Linear(in_features=784, out_features=512, bias=True)\n",
      "    (1): ReLU()\n",
      "    (2): Linear(in_features=512, out_features=512, bias=True)\n",
      "    (3): ReLU()\n",
      "    (4): Linear(in_features=512, out_features=10, bias=True)\n",
      "  )\n",
      ")\n"
     ]
    }
   ],
   "source": [
    "# get cpu or gpu device for training\n",
    "device = 'cuda' if torch.cuda.is_available() else 'cpu'\n",
    "print(f'Using {device} device')\n",
    "\n",
    "# define the model\n",
    "class NeuralNetwork(nn.Module):\n",
    "    def __init__(self):\n",
    "        super(NeuralNetwork, self).__init__()\n",
    "        self.flatten = nn.Flatten()\n",
    "        self.linear_relu_stack = nn.Sequential(\n",
    "            nn.Linear(28*28, 512),\n",
    "            nn.ReLU(),\n",
    "            nn.Linear(512,512),\n",
    "            nn.ReLU(),\n",
    "            nn.Linear(512,10)\n",
    "        )\n",
    "\n",
    "    def forward(self,x):\n",
    "        x = self.flatten(x)\n",
    "        logits = self.linear_relu_stack(x)\n",
    "        return logits\n",
    "\n",
    "model = NeuralNetwork().to(device)\n",
    "print(model)"
   ]
  },
  {
   "cell_type": "code",
   "execution_count": 8,
   "metadata": {},
   "outputs": [],
   "source": [
    "# to train a model, we need a loss function and optimizer\n",
    "loss_fn = nn.CrossEntropyLoss()\n",
    "optimizer = torch.optim.SGD(model.parameters(), lr=1e-3)"
   ]
  },
  {
   "cell_type": "code",
   "execution_count": 9,
   "metadata": {},
   "outputs": [],
   "source": [
    "# in a single training loop, the model makes predictions on the training dataset (fed to it in batches), and backpropagates the\n",
    "# prediction error to adjust the models parameters.\n",
    "\n",
    "def train(dataloader, model, loss_fn, optimizer):\n",
    "    size = len(dataloader.dataset)\n",
    "    model.train()\n",
    "    for batch, (X,y) in enumerate(dataloader):\n",
    "        X,y = X.to(device), y.to(device)\n",
    "\n",
    "        # compute prediction error\n",
    "        pred = model(X)\n",
    "        loss = loss_fn(pred,y)\n",
    "\n",
    "        # backpropagation\n",
    "        optimizer.zero_grad()\n",
    "        loss.backward()\n",
    "        optimizer.step()\n",
    "\n",
    "        if batch % 100 == 0:\n",
    "            loss, current = loss.item(), batch *len(X)\n",
    "            print(f'loss: {loss:>7f} [{current:>5d}/{size:>5d}]')"
   ]
  },
  {
   "cell_type": "code",
   "execution_count": 10,
   "metadata": {},
   "outputs": [],
   "source": [
    "# check the models performance against the test dataset to ensure it is learning\n",
    "\n",
    "def test(dataloader, model, loss_fn):\n",
    "    size = len(dataloader.dataset)\n",
    "    num_batches = len(dataloader)\n",
    "    model.eval()\n",
    "    test_loss, correct = 0,0\n",
    "    with torch.no_grad():\n",
    "        for X,y in dataloader:\n",
    "            X, y = X.to(device), y.to(device)\n",
    "            pred = model(X)\n",
    "            test_loss += loss_fn(pred, y).item()\n",
    "            correct += (pred.argmax(1) == y).type(torch.float).sum().item()\n",
    "    test_loss /= num_batches\n",
    "    correct /= size\n",
    "    print(f'Test error: \\n Accuracy: {(100*correct):>0.1f}%, Avg Loss: {test_loss:>8f} \\n')"
   ]
  },
  {
   "cell_type": "code",
   "execution_count": 11,
   "metadata": {},
   "outputs": [
    {
     "name": "stdout",
     "output_type": "stream",
     "text": [
      "Epoch 1\n",
      " ----------------------\n",
      "loss: 2.296827 [    0/60000]\n",
      "loss: 2.292490 [ 6400/60000]\n",
      "loss: 2.273292 [12800/60000]\n",
      "loss: 2.283179 [19200/60000]\n",
      "loss: 2.257912 [25600/60000]\n",
      "loss: 2.230037 [32000/60000]\n",
      "loss: 2.244247 [38400/60000]\n",
      "loss: 2.208177 [44800/60000]\n",
      "loss: 2.205584 [51200/60000]\n",
      "loss: 2.191633 [57600/60000]\n",
      "Test error: \n",
      " Accuracy: 36.6%, Avg Loss: 2.180246 \n",
      "\n",
      "Epoch 2\n",
      " ----------------------\n",
      "loss: 2.176276 [    0/60000]\n",
      "loss: 2.177645 [ 6400/60000]\n",
      "loss: 2.127500 [12800/60000]\n",
      "loss: 2.157085 [19200/60000]\n",
      "loss: 2.108216 [25600/60000]\n",
      "loss: 2.050895 [32000/60000]\n",
      "loss: 2.086300 [38400/60000]\n",
      "loss: 2.012347 [44800/60000]\n",
      "loss: 2.010074 [51200/60000]\n",
      "loss: 1.961444 [57600/60000]\n",
      "Test error: \n",
      " Accuracy: 55.4%, Avg Loss: 1.958716 \n",
      "\n",
      "Epoch 3\n",
      " ----------------------\n",
      "loss: 1.967094 [    0/60000]\n",
      "loss: 1.958430 [ 6400/60000]\n",
      "loss: 1.856267 [12800/60000]\n",
      "loss: 1.904567 [19200/60000]\n",
      "loss: 1.793150 [25600/60000]\n",
      "loss: 1.738528 [32000/60000]\n",
      "loss: 1.763678 [38400/60000]\n",
      "loss: 1.662681 [44800/60000]\n",
      "loss: 1.670971 [51200/60000]\n",
      "loss: 1.575956 [57600/60000]\n",
      "Test error: \n",
      " Accuracy: 62.0%, Avg Loss: 1.598375 \n",
      "\n",
      "Epoch 4\n",
      " ----------------------\n",
      "loss: 1.639951 [    0/60000]\n",
      "loss: 1.619843 [ 6400/60000]\n",
      "loss: 1.478712 [12800/60000]\n",
      "loss: 1.548792 [19200/60000]\n",
      "loss: 1.414275 [25600/60000]\n",
      "loss: 1.411976 [32000/60000]\n",
      "loss: 1.419640 [38400/60000]\n",
      "loss: 1.344630 [44800/60000]\n",
      "loss: 1.368900 [51200/60000]\n",
      "loss: 1.271096 [57600/60000]\n",
      "Test error: \n",
      " Accuracy: 63.0%, Avg Loss: 1.304358 \n",
      "\n",
      "Epoch 5\n",
      " ----------------------\n",
      "loss: 1.370269 [    0/60000]\n",
      "loss: 1.357362 [ 6400/60000]\n",
      "loss: 1.201834 [12800/60000]\n",
      "loss: 1.298920 [19200/60000]\n",
      "loss: 1.161230 [25600/60000]\n",
      "loss: 1.197831 [32000/60000]\n",
      "loss: 1.207070 [38400/60000]\n",
      "loss: 1.147859 [44800/60000]\n",
      "loss: 1.178355 [51200/60000]\n",
      "loss: 1.100238 [57600/60000]\n",
      "Test error: \n",
      " Accuracy: 64.2%, Avg Loss: 1.123498 \n",
      "\n",
      "Done!\n"
     ]
    }
   ],
   "source": [
    "# the training process is conducted over several epochs. during each epoch the model learns parameters to make better predictions.\n",
    "\n",
    "# we want to see the models accuracy increase and the loss decrease at each epoch.\n",
    "\n",
    "epochs = 5\n",
    "for t in range(epochs):\n",
    "    print(f\"Epoch {t+1}\\n ----------------------\")\n",
    "    train(train_dataloader, model, loss_fn, optimizer)\n",
    "    test(test_dataloader, model, loss_fn)\n",
    "print('Done!') "
   ]
  },
  {
   "cell_type": "code",
   "execution_count": 12,
   "metadata": {},
   "outputs": [
    {
     "name": "stdout",
     "output_type": "stream",
     "text": [
      "The saved PyTorch model state to model.pth\n"
     ]
    }
   ],
   "source": [
    "# saving the model\n",
    "torch.save(model.state_dict(), 'model.pth')\n",
    "print('The saved PyTorch model state to model.pth')"
   ]
  },
  {
   "cell_type": "code",
   "execution_count": 13,
   "metadata": {},
   "outputs": [
    {
     "data": {
      "text/plain": [
       "<All keys matched successfully>"
      ]
     },
     "execution_count": 13,
     "metadata": {},
     "output_type": "execute_result"
    }
   ],
   "source": [
    "model = NeuralNetwork()\n",
    "model.load_state_dict(torch.load('model.pth'))"
   ]
  },
  {
   "cell_type": "code",
   "execution_count": 20,
   "metadata": {},
   "outputs": [
    {
     "name": "stdout",
     "output_type": "stream",
     "text": [
      "Predicted: \"Ankle boot\", Actual: \"Ankle boot\"\n"
     ]
    }
   ],
   "source": [
    "# the model can be used to make predictions\n",
    "classes = [\n",
    "    \"T-shirt/top\",\n",
    "    \"Trouser\",\n",
    "    \"Pullover\",\n",
    "    \"Dress\",\n",
    "    \"Coat\",\n",
    "    \"Sandal\",\n",
    "    \"Shirt\",\n",
    "    \"Sneaker\",\n",
    "    \"Bag\",\n",
    "    \"Ankle boot\",\n",
    "]\n",
    "\n",
    "model.eval()\n",
    "x, y = test_data[0][0], test_data[0][1]\n",
    "with torch.no_grad():\n",
    "    pred = model(x)\n",
    "    predicted, actual = classes[pred[0].argmax(0)], classes[y]\n",
    "    print(f'Predicted: \"{predicted}\", Actual: \"{actual}\"')"
   ]
  }
 ],
 "metadata": {
  "interpreter": {
   "hash": "a1d973f6c003acf433cab0c605c727689819527632eaa745461d95c55fb06d64"
  },
  "kernelspec": {
   "display_name": "Python 3.9.10 ('pytorch_env')",
   "language": "python",
   "name": "python3"
  },
  "language_info": {
   "codemirror_mode": {
    "name": "ipython",
    "version": 3
   },
   "file_extension": ".py",
   "mimetype": "text/x-python",
   "name": "python",
   "nbconvert_exporter": "python",
   "pygments_lexer": "ipython3",
   "version": "3.9.10"
  },
  "orig_nbformat": 4
 },
 "nbformat": 4,
 "nbformat_minor": 2
}
