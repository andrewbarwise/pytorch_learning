{
 "cells": [
  {
   "cell_type": "markdown",
   "metadata": {},
   "source": [
    "NLP from scratch. Classifying names with a character level RNN\n",
    "\n",
    "A character level RNN reads words as a series of characters, outputting a prediction and 'hidden state at every step, feeding its previous hidden state into each next level step. Take the final prediction to be the output, which class the word belongs to."
   ]
  },
  {
   "cell_type": "markdown",
   "metadata": {},
   "source": [
    "PREPARE THE DATA\n",
    "\n",
    "in 'data/names' there are 18 text files, with each file having one name per line"
   ]
  },
  {
   "cell_type": "code",
   "execution_count": 1,
   "metadata": {},
   "outputs": [],
   "source": [
    "from __future__ import unicode_literals, print_function, division\n",
    "from io import open\n",
    "import glob # used to find files recursively\n",
    "import os"
   ]
  },
  {
   "cell_type": "code",
   "execution_count": 2,
   "metadata": {},
   "outputs": [
    {
     "name": "stdout",
     "output_type": "stream",
     "text": [
      "['data/names/Czech.txt', 'data/names/German.txt', 'data/names/Arabic.txt', 'data/names/Japanese.txt', 'data/names/Chinese.txt', 'data/names/Vietnamese.txt', 'data/names/Russian.txt', 'data/names/French.txt', 'data/names/Irish.txt', 'data/names/English.txt', 'data/names/Spanish.txt', 'data/names/Greek.txt', 'data/names/Italian.txt', 'data/names/Portuguese.txt', 'data/names/Scottish.txt', 'data/names/Dutch.txt', 'data/names/Korean.txt', 'data/names/Polish.txt']\n",
      "Slusarski\n"
     ]
    }
   ],
   "source": [
    "def findFiles(path): \n",
    "    return glob.glob(path)\n",
    "\n",
    "print(findFiles('data/names/*.txt'))\n",
    "\n",
    "import unicodedata\n",
    "import string\n",
    "\n",
    "all_letters = string.ascii_letters + \" .,;'\"\n",
    "n_letters = len(all_letters)\n",
    "\n",
    "# turn a unicode string to plain ASCII\n",
    "def unicodeToAscii(s):\n",
    "    return ''.join(\n",
    "        c for c in unicodedata.normalize('NFD', s)\n",
    "        if unicodedata.category(c) != 'Mn'\n",
    "        and c in all_letters\n",
    "    )\n",
    "print(unicodeToAscii('Ślusàrski'))\n",
    "\n",
    "# build the category_lines dictionary, a list of names per language\n",
    "category_lines = {}\n",
    "all_categories = []\n",
    "\n",
    "# read a file and split into lines\n",
    "def readLines(filename):\n",
    "    lines = open(filename, encoding='utf-8').read().strip().split('\\n')\n",
    "    return [unicodeToAscii(line) for line in lines]\n",
    "\n",
    "for filename in findFiles('data/names/*.txt'):\n",
    "    category = os.path.splitext(os.path.basename(filename))[0]\n",
    "    all_categories.append(category)\n",
    "    lines = readLines(filename)\n",
    "    category_lines[category] = lines\n",
    "\n",
    "n_categories = len(all_categories)\n",
    "\n",
    "# now have category_lines, a dictionary that maps each language to a list of names.\n",
    "# all_categories is a list of each language\n"
   ]
  },
  {
   "cell_type": "code",
   "execution_count": 3,
   "metadata": {},
   "outputs": [
    {
     "name": "stdout",
     "output_type": "stream",
     "text": [
      "['Abandonato', 'Abatangelo', 'Abatantuono', 'Abate', 'Abategiovanni']\n"
     ]
    }
   ],
   "source": [
    "print(category_lines['Italian'][:5])"
   ]
  },
  {
   "cell_type": "markdown",
   "metadata": {},
   "source": [
    "TURNING NAMES TO TENSORS\n",
    "\n",
    "now that the names are organized, we need to turn them into tensors\n",
    "\n",
    "to represent a single letter, use a one hot vector of size <1 * n_letters>, ( all 0's bar the the index of the current letter)\n",
    "\n",
    "to represent we join the vectors into a 2d matrix <line_length * 1 * n_letters>\n",
    "         -> [[1,0,0,0], [0,1,0,0],[1,0,0,0]]\n",
    "\n",
    "The extra dimension is because pytorch expects everything in batches, above batch = 1."
   ]
  },
  {
   "cell_type": "code",
   "execution_count": 4,
   "metadata": {},
   "outputs": [
    {
     "name": "stdout",
     "output_type": "stream",
     "text": [
      "tensor([[0., 0., 0., 0., 0., 0., 0., 0., 0., 0., 0., 0., 0., 0., 0., 0., 0., 0.,\n",
      "         0., 0., 0., 0., 0., 0., 0., 0., 0., 0., 0., 0., 0., 0., 0., 0., 0., 1.,\n",
      "         0., 0., 0., 0., 0., 0., 0., 0., 0., 0., 0., 0., 0., 0., 0., 0., 0., 0.,\n",
      "         0., 0., 0.]])\n",
      "torch.Size([5, 1, 57])\n"
     ]
    }
   ],
   "source": [
    "import torch\n",
    "\n",
    "# find letter index from all_letters, a = 0\n",
    "def letterToIndex(letter):\n",
    "    return all_letters.find(letter)\n",
    "\n",
    "# for a demo, turn a letter into a <1 * n_letters> tensor\n",
    "def letterToTensor(letter):\n",
    "    tensor = torch.zeros(1, n_letters)\n",
    "    tensor[0][letterToIndex(letter)] = 1\n",
    "    return tensor\n",
    "\n",
    "# turn a line into an array of one hot vectors\n",
    "def lineToTensor(line):\n",
    "    tensor = torch.zeros(len(line), 1, n_letters)\n",
    "    for li, letter in enumerate(line):\n",
    "        tensor[li][0][letterToIndex(letter)] = 1\n",
    "    return tensor\n",
    "\n",
    "print(letterToTensor('J'))\n",
    "\n",
    "print(lineToTensor('Jones').size())"
   ]
  },
  {
   "cell_type": "markdown",
   "metadata": {},
   "source": [
    "CREATE THE NETWORK\n",
    "\n",
    "creating a RNN with two linear layers that operate on an input and hidden state, with a LogSoftmax layer after the output"
   ]
  },
  {
   "cell_type": "code",
   "execution_count": 5,
   "metadata": {},
   "outputs": [],
   "source": [
    "import torch.nn as nn\n",
    "\n",
    "class RNN(nn.Module):\n",
    "    def __init__(self, input_size, hidden_size, output_size):\n",
    "        super(RNN, self).__init__()\n",
    "\n",
    "        self.hidden_size = hidden_size\n",
    "\n",
    "        self.i2h = nn.Linear(input_size + hidden_size, hidden_size)\n",
    "        self.i2o = nn.Linear(input_size + hidden_size, output_size)\n",
    "        self.softmax = nn.LogSoftmax(dim=1)\n",
    "\n",
    "    def forward(self, input, hidden):\n",
    "        combined = torch.cat((input, hidden), 1)\n",
    "        hidden = self.i2h(combined)\n",
    "        output = self.i2o(combined)\n",
    "        output = self.softmax(output)\n",
    "        return output, hidden\n",
    "\n",
    "    def initHidden(self):\n",
    "        return torch.zeros(1, self.hidden_size)\n",
    "\n",
    "n_hidden = 128\n",
    "\n",
    "rnn = RNN(n_letters, n_hidden, n_categories)"
   ]
  },
  {
   "cell_type": "markdown",
   "metadata": {},
   "source": [
    "to run a step of the network we need to pass an input (in this case a tensor for the current letter.) and a previous hidden state ( initialize with 0's first).\n",
    "\n",
    "in return we get the output ( probability of each language) and the next hidden state ( keep for the next step)"
   ]
  },
  {
   "cell_type": "code",
   "execution_count": 6,
   "metadata": {},
   "outputs": [],
   "source": [
    "input = letterToTensor('A')\n",
    "\n",
    "hidden = torch.zeros(1,n_hidden)\n",
    "\n",
    "output, next_hidden = rnn(input, hidden)"
   ]
  },
  {
   "cell_type": "markdown",
   "metadata": {},
   "source": [
    "for the sake of efficeincy use lineToTensor so we are not creating a new tensor for every step and use slices"
   ]
  },
  {
   "cell_type": "code",
   "execution_count": 7,
   "metadata": {},
   "outputs": [
    {
     "name": "stdout",
     "output_type": "stream",
     "text": [
      "tensor([[-2.9433, -2.9134, -2.7805, -2.9324, -2.9314, -2.8550, -2.8890, -2.9007,\n",
      "         -2.9363, -2.9507, -2.9008, -2.8937, -2.9295, -2.8097, -2.9178, -2.9584,\n",
      "         -2.7780, -2.8341]], grad_fn=<LogSoftmaxBackward0>)\n"
     ]
    }
   ],
   "source": [
    "input = lineToTensor('Albert')\n",
    "\n",
    "hidden = torch.zeros(1, n_hidden)\n",
    "\n",
    "output, next_hidden = rnn(input[0], hidden)\n",
    "\n",
    "print(output)\n",
    "\n",
    "# the tensor returned is a <1 * n_categories> tensor, with a likelihood for each category"
   ]
  },
  {
   "cell_type": "markdown",
   "metadata": {},
   "source": [
    "TRAINING\n",
    " \n",
    " before training create some  helper functions. firstly one to interpret the output of the network, which is the likelihood of each category.\n",
    " use Tensor.topk to get the index of greatest value. "
   ]
  },
  {
   "cell_type": "code",
   "execution_count": 8,
   "metadata": {},
   "outputs": [
    {
     "name": "stdout",
     "output_type": "stream",
     "text": [
      "('Korean', 16)\n"
     ]
    }
   ],
   "source": [
    "def categoryFromOutput(output):\n",
    "    top_n, top_i = output.topk(1)\n",
    "    category_i = top_i[0].item()\n",
    "    return all_categories[category_i], category_i\n",
    "\n",
    "print(categoryFromOutput(output))"
   ]
  },
  {
   "cell_type": "code",
   "execution_count": 9,
   "metadata": {},
   "outputs": [
    {
     "name": "stdout",
     "output_type": "stream",
     "text": [
      "category = Arabic / line=\n",
      "category = Scottish / line=\n",
      "category = German / line=\n",
      "category = Scottish / line=\n",
      "category = Spanish / line=\n",
      "category = Italian / line=\n",
      "category = Vietnamese / line=\n",
      "category = Russian / line=\n",
      "category = Scottish / line=\n",
      "category = Czech / line=\n"
     ]
    }
   ],
   "source": [
    "# also want a quick way of getting a training example (name and its language)\n",
    "import random \n",
    "\n",
    "def randomChoice(l):\n",
    "    return l[random.randint(0, len(l) - 1)]\n",
    "\n",
    "def randomTraingExample():\n",
    "    category = randomChoice(all_categories)\n",
    "    line = randomChoice(category_lines[category])\n",
    "    category_tensor = torch.tensor([all_categories.index(category)], dtype=torch.long)\n",
    "    line_tensor = lineToTensor(line)\n",
    "    return category, line, category_tensor, line_tensor\n",
    "\n",
    "for ii in range(10):\n",
    "    category, line, category_tensor, line_tensor = randomTraingExample()\n",
    "    print('category =', category, '/ line=',)\n",
    "\n"
   ]
  },
  {
   "cell_type": "markdown",
   "metadata": {},
   "source": [
    "TRAINING THE NETWORK\n",
    "\n",
    "train the network with the training set"
   ]
  },
  {
   "cell_type": "code",
   "execution_count": 10,
   "metadata": {},
   "outputs": [],
   "source": [
    "# for the loss function nn.NLLLoss is appropiate, as the last layer of the RNN is nn.LogSoftmax\n",
    "\n",
    "criterion = nn.NLLLoss()"
   ]
  },
  {
   "cell_type": "markdown",
   "metadata": {},
   "source": [
    "each loop of training will:\n",
    "- create input and target tensors\n",
    "- create a zeroed initial hidden state\n",
    "- read each letter in and keep the hidden state for the next letter\n",
    "- compare final output to target\n",
    "- backpropogate\n",
    "- return the output and loss"
   ]
  },
  {
   "cell_type": "code",
   "execution_count": 11,
   "metadata": {},
   "outputs": [],
   "source": [
    "learning_rate = 0.005\n",
    "\n",
    "def train(category_tensor, line_tensor):\n",
    "    hidden = rnn.initHidden()\n",
    "    \n",
    "    rnn.zero_grad()\n",
    "\n",
    "    for ii in range(line_tensor.size()[0]):\n",
    "        output, hidden = rnn(line_tensor[ii], hidden)\n",
    "\n",
    "    loss = criterion(output, category_tensor)\n",
    "    loss.backward()\n",
    "\n",
    "    # add parameters gradients to their values, multiplied by learning rate\n",
    "    for pp in rnn.parameters():\n",
    "        pp.data.add_(pp.grad.data, alpha=-learning_rate)\n",
    "\n",
    "    return output, loss.item()"
   ]
  },
  {
   "cell_type": "markdown",
   "metadata": {},
   "source": [
    "since the train function returns both the output and loss we can print its guesses and also keep track of loss for plotting.\n",
    "\n",
    "since there are 1000's of examples print only every 'print_every' and take an average of the loss"
   ]
  },
  {
   "cell_type": "code",
   "execution_count": 12,
   "metadata": {},
   "outputs": [
    {
     "name": "stdout",
     "output_type": "stream",
     "text": [
      "5000 5% (0m 1s) 2.5867 Choi / Chinese Incorrect (Korean)\n",
      "10000 10% (0m 3s) 1.9696 Kuipers / Portuguese Incorrect (Dutch)\n",
      "15000 15% (0m 5s) 1.1389 Yong / Chinese Correct\n",
      "20000 20% (0m 6s) 1.1677 Rumisek / Polish Incorrect (Czech)\n",
      "25000 25% (0m 8s) 2.5089 Giroux / Arabic Incorrect (French)\n",
      "30000 30% (0m 10s) 0.6733 Nolan / Irish Correct\n",
      "35000 35% (0m 12s) 4.1346 Nekuza / Japanese Incorrect (Czech)\n",
      "40000 40% (0m 13s) 1.9094 Samaha / Japanese Incorrect (Arabic)\n",
      "45000 45% (0m 15s) 1.3735 Ven / Dutch Correct\n",
      "50000 50% (0m 17s) 0.8452 Bertrand / French Correct\n",
      "55000 55% (0m 19s) 0.1734 Yamamoto / Japanese Correct\n",
      "60000 60% (0m 20s) 0.3806 Reagan / Irish Correct\n",
      "65000 65% (0m 22s) 0.6425 Smeets / Dutch Correct\n",
      "70000 70% (0m 24s) 0.9882 Bitar / Arabic Correct\n",
      "75000 75% (0m 26s) 0.4712 Sechnall / Irish Correct\n",
      "80000 80% (0m 28s) 1.5007 Wendel / English Incorrect (German)\n",
      "85000 85% (0m 29s) 0.8500 Muraoka / Japanese Correct\n",
      "90000 90% (0m 31s) 1.3253 Yang / Korean Incorrect (Chinese)\n",
      "95000 95% (0m 33s) 0.2648 Peatain / Irish Correct\n",
      "100000 100% (0m 35s) 2.5507 Ventimiglia / Spanish Incorrect (Italian)\n"
     ]
    }
   ],
   "source": [
    "import time \n",
    "import math\n",
    "\n",
    "n_iters = 100000\n",
    "print_every = 5000\n",
    "plot_every = 1000\n",
    "\n",
    "# keep track of losses for plotting\n",
    "current_loss = 0\n",
    "all_losses = []\n",
    "\n",
    "def timeSince(since):\n",
    "    now = time.time()\n",
    "    s = now - since\n",
    "    m = math.floor(s/60)\n",
    "    s -= m * 60\n",
    "    return '%dm %ds' % (m,s)\n",
    "\n",
    "start = time.time()\n",
    "\n",
    "for iter in range(1, n_iters + 1):\n",
    "    category, line, category_tensor, line_tensor = randomTraingExample()\n",
    "    output, loss = train(category_tensor, line_tensor)\n",
    "    current_loss += loss\n",
    "\n",
    "    # print iter number, loss, name and guess\n",
    "\n",
    "    if iter % print_every == 0:\n",
    "        guess, guess_i = categoryFromOutput(output)\n",
    "        correct = 'Correct' if guess == category else 'Incorrect (%s)' % category\n",
    "        print('%d %d%% (%s) %.4f %s / %s %s' % (iter, iter / n_iters * 100, timeSince(start), loss, line, guess, correct))\n",
    "\n",
    "    # add current loss avg to list of losses\n",
    "    if iter % plot_every == 0:\n",
    "        all_losses.append(current_loss/ plot_every)\n",
    "        current_loss = 0"
   ]
  },
  {
   "cell_type": "markdown",
   "metadata": {},
   "source": [
    "PLOT THE RESULTS\n",
    "\n",
    "plotting the historical loss from all_losses shows the network learning"
   ]
  },
  {
   "cell_type": "code",
   "execution_count": 13,
   "metadata": {},
   "outputs": [
    {
     "data": {
      "text/plain": [
       "[<matplotlib.lines.Line2D at 0x136f105e0>]"
      ]
     },
     "execution_count": 13,
     "metadata": {},
     "output_type": "execute_result"
    },
    {
     "data": {
      "image/png": "[encoded data removed]",
      "text/plain": [
       "<Figure size 432x288 with 1 Axes>"
      ]
     },
     "metadata": {
      "needs_background": "light"
     },
     "output_type": "display_data"
    }
   ],
   "source": [
    "import matplotlib.pyplot as plt\n",
    "import matplotlib.ticker as ticker\n",
    "\n",
    "plt.figure()\n",
    "plt.plot(all_losses)"
   ]
  },
  {
   "cell_type": "markdown",
   "metadata": {},
   "source": [
    "EVALUATING THE RESULTS\n",
    "\n",
    "create a confusion matrix to see how well the network performs on different categories.\n",
    "\n",
    "this shows for every actual language (rows) which the language guesses (columns).\n",
    "\n",
    "to calculate the confusion matrix a bunch of samples are run through the network with evaluate(), which is same as train() without the backprop"
   ]
  },
  {
   "cell_type": "code",
   "execution_count": 14,
   "metadata": {},
   "outputs": [
    {
     "name": "stderr",
     "output_type": "stream",
     "text": [
      "/var/folders/nv/lzp9ffbj6cs24kjrpcj0q1ym0000gn/T/ipykernel_840/1157696624.py:33: UserWarning: FixedFormatter should only be used together with FixedLocator\n",
      "  ax.set_xticklabels([''] + all_categories, rotation = 90)\n",
      "/var/folders/nv/lzp9ffbj6cs24kjrpcj0q1ym0000gn/T/ipykernel_840/1157696624.py:34: UserWarning: FixedFormatter should only be used together with FixedLocator\n",
      "  ax.set_yticklabels([''] + all_categories)\n"
     ]
    },
    {
     "data": {
      "image/png": "[encoded data removed]",
      "text/plain": [
       "<Figure size 432x288 with 2 Axes>"
      ]
     },
     "metadata": {
      "needs_background": "light"
     },
     "output_type": "display_data"
    }
   ],
   "source": [
    "# keep track of correct guesses in a confusion matrix\n",
    "confusion = torch.zeros(n_categories, n_categories)\n",
    "n_confusion = 10000\n",
    "\n",
    "# just return an output given a line\n",
    "def evaluate(line_tensor):\n",
    "    hidden = rnn.initHidden()\n",
    "\n",
    "    for ii in range(line_tensor.size()[0]):\n",
    "        output, hidden = rnn(line_tensor[ii], hidden)\n",
    "\n",
    "    return output\n",
    "\n",
    "# go through a bunch of examples and record which ones are correctly guessed\n",
    "for ii in range(n_confusion):\n",
    "    category, line, category_tensor, line_tensor = randomTraingExample()\n",
    "    output = evaluate(line_tensor)\n",
    "    guess, guess_i = categoryFromOutput(output)\n",
    "    category_i = all_categories.index(category)\n",
    "    confusion[category_i][guess_i] += 1\n",
    "\n",
    "# normalize by dividing every row by its sum\n",
    "for ii in range(n_categories):\n",
    "    confusion[ii] = confusion[ii] / confusion[ii].sum()\n",
    "\n",
    "# set up plot\n",
    "fig = plt.figure()\n",
    "ax = fig.add_subplot(111)\n",
    "cax = ax.matshow(confusion.numpy())\n",
    "fig.colorbar(cax)\n",
    "\n",
    "# set up the axes\n",
    "ax.set_xticklabels([''] + all_categories, rotation = 90)\n",
    "ax.set_yticklabels([''] + all_categories)\n",
    "\n",
    "# force label at every tick\n",
    "ax.xaxis.set_major_locator(ticker.MultipleLocator(1))\n",
    "ax.yaxis.set_major_locator(ticker.MultipleLocator(1))\n",
    "\n",
    "plt.show()\n",
    "\n",
    "# pick off brigt spots off the axis to show which languages it guesses incorrectly, e.g. Chinese for Korean, Spanish for Portugese"
   ]
  },
  {
   "cell_type": "markdown",
   "metadata": {},
   "source": [
    "RUNNING ON USER INPUT"
   ]
  },
  {
   "cell_type": "code",
   "execution_count": 19,
   "metadata": {},
   "outputs": [],
   "source": [
    "def predict(input_line, n_predictions = 3):\n",
    "    print('\\n> %s' % input_line)\n",
    "    with torch.no_grad():\n",
    "        output = evaluate(lineToTensor(input_line))\n",
    "\n",
    "        # get top N categories\n",
    "        topv, topi = output.topk(n_predictions, 1, True)\n",
    "        predictions = []\n",
    "\n",
    "        for ii in range(n_predictions):\n",
    "            value = topv[0][ii].item()\n",
    "            category_index = topi[0][ii]\n",
    "            print('(%.2f) %s' % (value, all_categories[category_index]))\n",
    "            predictions.append([value, all_categories[category_index]])\n"
   ]
  },
  {
   "cell_type": "code",
   "execution_count": 30,
   "metadata": {},
   "outputs": [
    {
     "name": "stdout",
     "output_type": "stream",
     "text": [
      "\n",
      "> Wallace\n",
      "(-1.38) Irish\n",
      "(-1.42) English\n",
      "(-1.47) Scottish\n"
     ]
    }
   ],
   "source": [
    "predict('Wallace')"
   ]
  }
 ],
 "metadata": {
  "interpreter": {
   "hash": "a1d973f6c003acf433cab0c605c727689819527632eaa745461d95c55fb06d64"
  },
  "kernelspec": {
   "display_name": "Python 3.9.10 ('pytorch_env')",
   "language": "python",
   "name": "python3"
  },
  "language_info": {
   "codemirror_mode": {
    "name": "ipython",
    "version": 3
   },
   "file_extension": ".py",
   "mimetype": "text/x-python",
   "name": "python",
   "nbconvert_exporter": "python",
   "pygments_lexer": "ipython3",
   "version": "3.9.10"
  },
  "orig_nbformat": 4
 },
 "nbformat": 4,
 "nbformat_minor": 2
}
